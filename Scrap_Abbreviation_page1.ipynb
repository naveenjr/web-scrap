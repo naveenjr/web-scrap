{
 "cells": [
  {
   "cell_type": "code",
   "execution_count": 1,
   "metadata": {
    "collapsed": true
   },
   "outputs": [],
   "source": [
    "import bs4 as bs\n",
    "import requests\n",
    "import urlparse"
   ]
  },
  {
   "cell_type": "code",
   "execution_count": 2,
   "metadata": {
    "collapsed": true
   },
   "outputs": [],
   "source": [
    "url = \"https://jmedicalcasereports.biomedcentral.com/articles\"\n",
    "response = requests.get(url)\n",
    "soup = bs.BeautifulSoup(response.content, 'lxml')"
   ]
  },
  {
   "cell_type": "code",
   "execution_count": 3,
   "metadata": {
    "collapsed": true
   },
   "outputs": [],
   "source": [
    "f= open('jmedicalcasereports_page1_Abbreviation.txt','w')"
   ]
  },
  {
   "cell_type": "code",
   "execution_count": 4,
   "metadata": {
    "collapsed": true
   },
   "outputs": [],
   "source": [
    "def inside_text(url, tittle):\n",
    "    response = requests.get(url)\n",
    "    soup = bs.BeautifulSoup(response.content, 'lxml')\n",
    "    body_articles = soup.body\n",
    "    for body_p in body_articles.find_all('section', class_=\"AbbreviationGroup\"):\n",
    "            Abbreviation = body_p.text\n",
    "            #print Abbreviation\n",
    "            f.write(\"-----------------------------------------\"+tittle.encode(\"utf-8\")+\"-----------------------------------------------------------\"+Abbreviation.encode(\"utf-8\"))"
   ]
  },
  {
   "cell_type": "code",
   "execution_count": 5,
   "metadata": {},
   "outputs": [
    {
     "name": "stdout",
     "output_type": "stream",
     "text": [
      "~~~~~~~~~~~~ Opsoclonus myoclonus syndrome in a patient with Japanese encephalitis: a case report ~~~~~~~~~~~~~\n",
      "https://jmedicalcasereports.biomedcentral.com/articles/10.1186/s13256-017-1454-5\n",
      "~~~~~~~~~~~~ A large bladder stone caused by the intravesical migration of an intrauterine contraceptive device: a case report ~~~~~~~~~~~~~\n",
      "https://jmedicalcasereports.biomedcentral.com/articles/10.1186/s13256-017-1461-6\n",
      "~~~~~~~~~~~~ Urethrovaginal fistula following vaginal prolapse of a pedunculated uterine myoma: a case report ~~~~~~~~~~~~~\n",
      "https://jmedicalcasereports.biomedcentral.com/articles/10.1186/s13256-017-1457-2\n",
      "~~~~~~~~~~~~ Cardiac magnetic resonance imaging-indeterminate/negative cardiac sarcoidosis revealed by 18F-fluorodeoxyglucose-positron emission tomography: two case reports and a review of the literature ~~~~~~~~~~~~~\n",
      "https://jmedicalcasereports.biomedcentral.com/articles/10.1186/s13256-017-1453-6\n",
      "~~~~~~~~~~~~ Large cell neuroendocrine carcinoma of the kidney with cardiac metastasis: a case report ~~~~~~~~~~~~~\n",
      "https://jmedicalcasereports.biomedcentral.com/articles/10.1186/s13256-017-1460-7\n",
      "~~~~~~~~~~~~ Primary small cell carcinoma of the breast: a case report ~~~~~~~~~~~~~\n",
      "https://jmedicalcasereports.biomedcentral.com/articles/10.1186/s13256-017-1467-0\n",
      "~~~~~~~~~~~~ Epoetin β pegol (continuous erythropoietin receptor activator, CERA) is another choice for the treatment of anemia in myelodysplastic syndrome: a case report ~~~~~~~~~~~~~\n",
      "https://jmedicalcasereports.biomedcentral.com/articles/10.1186/s13256-017-1468-z\n",
      "~~~~~~~~~~~~ Successful treatment of a recurrent granulation polyp in the airways with high-dose-rate brachytherapy: a case report ~~~~~~~~~~~~~\n",
      "https://jmedicalcasereports.biomedcentral.com/articles/10.1186/s13256-017-1465-2\n",
      "~~~~~~~~~~~~ Unexpected hypotension in catecholamine reversal: a case report ~~~~~~~~~~~~~\n",
      "https://jmedicalcasereports.biomedcentral.com/articles/10.1186/s13256-017-1442-9\n",
      "~~~~~~~~~~~~ Correction to: Breast cancer metastases to the thyroid gland - An uncommon sentinel for diffuse metastatic disease: A case report and literature review ~~~~~~~~~~~~~\n",
      "https://jmedicalcasereports.biomedcentral.com/articles/10.1186/s13256-017-1478-x\n",
      "~~~~~~~~~~~~ Erratum to: How to choose the best journal for your case report ~~~~~~~~~~~~~\n",
      "https://jmedicalcasereports.biomedcentral.com/articles/10.1186/s13256-017-1452-7\n",
      "~~~~~~~~~~~~ Pseudoangiomatous stromal hyperplasia – a benign and rare tumor of the breast in an adolescent: a case report ~~~~~~~~~~~~~\n",
      "https://jmedicalcasereports.biomedcentral.com/articles/10.1186/s13256-017-1426-9\n",
      "~~~~~~~~~~~~ Osteitis of the radius following Bacillus Calmette–Guérin vaccination at birth: a case report ~~~~~~~~~~~~~\n",
      "https://jmedicalcasereports.biomedcentral.com/articles/10.1186/s13256-017-1446-5\n",
      "~~~~~~~~~~~~ Huge right ventricular mass lesion associated with genital malignant tumor: a case report ~~~~~~~~~~~~~\n",
      "https://jmedicalcasereports.biomedcentral.com/articles/10.1186/s13256-017-1439-4\n",
      "~~~~~~~~~~~~ Treatment of pruritus in a palliative care patient with low-dose paroxetine: a case report ~~~~~~~~~~~~~\n",
      "https://jmedicalcasereports.biomedcentral.com/articles/10.1186/s13256-017-1437-6\n",
      "~~~~~~~~~~~~ Incidental late diagnosis of cystic fibrosis following AH1N1 influenza virus pneumonia: a case report ~~~~~~~~~~~~~\n",
      "https://jmedicalcasereports.biomedcentral.com/articles/10.1186/s13256-017-1430-0\n",
      "~~~~~~~~~~~~ Sphingobacterium spiritivorum bacteremia due to cellulitis in an elderly man with chronic obstructive pulmonary disease and congestive heart failure: a case report ~~~~~~~~~~~~~\n",
      "https://jmedicalcasereports.biomedcentral.com/articles/10.1186/s13256-017-1445-6\n",
      "~~~~~~~~~~~~ Periprosthetic total knee fracture after remote reconstruction of the anterior cruciate ligament: a case report ~~~~~~~~~~~~~\n",
      "https://jmedicalcasereports.biomedcentral.com/articles/10.1186/s13256-017-1448-3\n",
      "~~~~~~~~~~~~ The effect of agomelatine and melatonin on sleep-related eating: a case report ~~~~~~~~~~~~~\n",
      "https://jmedicalcasereports.biomedcentral.com/articles/10.1186/s13256-017-1438-5\n",
      "~~~~~~~~~~~~ Peritoneum as the sole distant metastatic site of lung adenosquamous cell carcinoma: a case report ~~~~~~~~~~~~~\n",
      "https://jmedicalcasereports.biomedcentral.com/articles/10.1186/s13256-017-1431-z\n",
      "~~~~~~~~~~~~ Deep cerebral venous thrombosis mimicking influenza-associated acute necrotizing encephalopathy: a case report ~~~~~~~~~~~~~\n",
      "https://jmedicalcasereports.biomedcentral.com/articles/10.1186/s13256-017-1444-7\n",
      "~~~~~~~~~~~~ An unusual foreign object mimicking an odontoma in a patient with cleft alveolus: a case report ~~~~~~~~~~~~~\n",
      "https://jmedicalcasereports.biomedcentral.com/articles/10.1186/s13256-017-1433-x\n",
      "~~~~~~~~~~~~ Delayed response to maintenance therapy after first-line chemotherapy in metastatic intrahepatic cholangiocarcinoma: a case report ~~~~~~~~~~~~~\n",
      "https://jmedicalcasereports.biomedcentral.com/articles/10.1186/s13256-017-1443-8\n",
      "~~~~~~~~~~~~ Adult Langerhans cell histiocytosis with pulmonary and colorectoanal involvement: a case report ~~~~~~~~~~~~~\n",
      "https://jmedicalcasereports.biomedcentral.com/articles/10.1186/s13256-017-1428-7\n",
      "~~~~~~~~~~~~ An atypical presentation of cardiac tamponade and periorbital swelling in a patient with eosinophilic granulomatosis with polyangiitis: a case report ~~~~~~~~~~~~~\n",
      "https://jmedicalcasereports.biomedcentral.com/articles/10.1186/s13256-017-1434-9\n"
     ]
    }
   ],
   "source": [
    "url1 = 'https://jmedicalcasereports.biomedcentral.com'\n",
    "body = soup.body\n",
    "for body_p in body.find_all('a',class_=\"fulltexttitle\"):\n",
    "    text_ext = body_p.text\n",
    "    print \"~~~~~~~~~~~~\",text_ext,\"~~~~~~~~~~~~~\"\n",
    "    url2= body_p.get('href')\n",
    "    full_link = urlparse.urljoin(url1, url2)\n",
    "    print full_link\n",
    "    inside_text(full_link, text_ext)            "
   ]
  },
  {
   "cell_type": "code",
   "execution_count": null,
   "metadata": {
    "collapsed": true
   },
   "outputs": [],
   "source": []
  }
 ],
 "metadata": {
  "kernelspec": {
   "display_name": "Python 2",
   "language": "python",
   "name": "python2"
  },
  "language_info": {
   "codemirror_mode": {
    "name": "ipython",
    "version": 2
   },
   "file_extension": ".py",
   "mimetype": "text/x-python",
   "name": "python",
   "nbconvert_exporter": "python",
   "pygments_lexer": "ipython2",
   "version": "2.7.12"
  }
 },
 "nbformat": 4,
 "nbformat_minor": 2
}
